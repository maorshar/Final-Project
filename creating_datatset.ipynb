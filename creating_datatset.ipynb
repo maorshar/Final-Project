{
  "nbformat": 4,
  "nbformat_minor": 0,
  "metadata": {
    "colab": {
      "provenance": []
    },
    "kernelspec": {
      "name": "python3",
      "display_name": "Python 3"
    },
    "language_info": {
      "name": "python"
    }
  },
  "cells": [
    {
      "cell_type": "code",
      "execution_count": null,
      "metadata": {
        "id": "zYVZp3Nkji1F"
      },
      "outputs": [],
      "source": [
        "import pandas as pd\n",
        "import cv2\n",
        "import tensorflow as tf\n",
        "from tensorflow import keras\n",
        "from PIL import Image\n",
        "import numpy as np"
      ]
    },
    {
      "cell_type": "markdown",
      "source": [
        "Unzip for files of png and csv-\n",
        "uploading the images and the files of car's camera"
      ],
      "metadata": {
        "id": "LM0LWNzHYk4N"
      }
    },
    {
      "cell_type": "code",
      "source": [
        "!unzip /content/drive/Shareddrives/shared_Maor_Kfir/stop_test2/CognataCamera_ann.zip -d /content/extracted_folder\n",
        "!unzip /content/drive/Shareddrives/shared_Maor_Kfir/stop_test2/CognataCamera.zip -d /content/extracted_folder\n",
        "!unzip /content/drive/Shareddrives/shared_Maor_Kfir/stop_test2/CognataCamera_sl.zip -d /content/extracted_folder\n"
      ],
      "metadata": {
        "id": "vQlj1AUx6aEQ"
      },
      "execution_count": null,
      "outputs": []
    },
    {
      "cell_type": "markdown",
      "source": [
        "Take every second image from the folder"
      ],
      "metadata": {
        "id": "atYQ5wJ_7tZG"
      }
    },
    {
      "cell_type": "code",
      "source": [
        "import os\n",
        "\n",
        "folder_path_png = \"/content/extracted_folder/CognataCamera_png\"\n",
        "folder_path_seg = \"/content/extracted_folder/CognataCamera_sl_png\"\n",
        "folder_path_csv = \"/content/extracted_folder/CognataCamera_ann\"\n",
        "\n",
        "files = os.listdir(folder_path_png)\n",
        "# files[0] = files[0][:-3] + \"csv\"\n",
        "#files[0]\n",
        "\n",
        "# Loop through all files in the folder\n",
        "files_png = os.listdir(folder_path_png)\n",
        "files_seg = os.listdir(folder_path_seg)\n",
        "files_csv = os.listdir(folder_path_csv)\n",
        "\n",
        "for i in range(len(files)):\n",
        "    # Check if the file is an image (you can modify this check to match your image format)\n",
        "    if files[i].lower().endswith((\".png\")):\n",
        "        # Delete the file if its index is not divisible by 5\n",
        "        if (i + 1) % 2 != 0:\n",
        "            file_path_png = os.path.join(folder_path_png, files[i])\n",
        "            file_path_seg = os.path.join(folder_path_seg, files[i])\n",
        "            os.remove(file_path_png)\n",
        "            os.remove(file_path_seg)\n",
        "            file_csv = files[i][:-3] + \"csv\"\n",
        "            file_path_csv = os.path.join(folder_path_csv, file_csv)\n",
        "            os.remove(file_path_csv)"
      ],
      "metadata": {
        "id": "gTC_VOWX7sqg"
      },
      "execution_count": null,
      "outputs": []
    },
    {
      "cell_type": "markdown",
      "source": [
        "Creating folders for: \"traffic signs\", \"traffic signs masks\", \"copy of the original frames\""
      ],
      "metadata": {
        "id": "LI1eBdGk_97P"
      }
    },
    {
      "cell_type": "code",
      "source": [
        "import os\n",
        "# folder for traffic_signs\n",
        "folder_crops_name = 'traffic_signs'\n",
        "# Set the path to the new folder in the Colab file system\n",
        "folder_crops_path = os.path.join('/content/', folder_crops_name)\n",
        "# Create the new folder\n",
        "try:\n",
        "  os.mkdir(folder_crops_path)\n",
        "  print(f\"Folder '{folder_crops_name}' created successfully at '{folder_crops_path}'\")\n",
        "except FileExistsError:\n",
        "  print(f\"Folder '{folder_crops_name}' already exists at '{folder_crops_path}'\")\n",
        "\n",
        "# folder for traffic_signs_seg\n",
        "folder_crops_seg_name = 'traffic_signs_seg'\n",
        "# Set the path to the new folder in the Colab file system\n",
        "folder_crops_seg_path = os.path.join('/content', folder_crops_seg_name)\n",
        "# Create the new folder\n",
        "try:\n",
        "  os.mkdir(folder_crops_seg_path)\n",
        "  print(f\"Folder '{folder_crops_seg_name}' created successfully at '{folder_crops_seg_path}'\")\n",
        "except FileExistsError:\n",
        "  print(f\"Folder '{folder_crops_seg_name}' already exists at '{folder_crops_seg_path}'\")\n",
        "\n",
        "# folder for copy of the frames\n",
        "folder_copy_name = 'copy'\n",
        "# Set the path to the new folder in the Colab file system\n",
        "folder_copy_path = os.path.join('/content', folder_copy_name)\n",
        "# Create the new folder\n",
        "try:\n",
        "  os.mkdir(folder_copy_path)\n",
        "  print(f\"Folder '{folder_copy_name}' created successfully at '{folder_copy_path}'\")\n",
        "except FileExistsError:\n",
        "  print(f\"Folder '{folder_copy_name}' already exists at '{folder_copy_path}'\")"
      ],
      "metadata": {
        "id": "bIJWfjfq_Em_"
      },
      "execution_count": null,
      "outputs": []
    },
    {
      "cell_type": "markdown",
      "source": [
        "Code for cropping the traffic signs and tha masks from the frames\n",
        "\n"
      ],
      "metadata": {
        "id": "2ub_7C0_mkL6"
      }
    },
    {
      "cell_type": "code",
      "source": [
        "from numpy.core.fromnumeric import shape\n",
        "from numpy import double\n",
        "import shutil\n",
        "\n",
        "#Copy of the folder of the original images\n",
        "source_folder=\"/content/extracted_folder/CognataCamera_png\"\n",
        "destination_folder=\"/content/extracted_folder/CognataCamera_png_copy\"\n",
        "shutil.copytree(source_folder, destination_folder)"
      ],
      "metadata": {
        "id": "gWgpl2ps-JSr",
        "colab": {
          "base_uri": "https://localhost:8080/",
          "height": 36
        },
        "outputId": "4bba93eb-94b4-4fdd-9252-256db0011b19"
      },
      "execution_count": null,
      "outputs": [
        {
          "output_type": "execute_result",
          "data": {
            "text/plain": [
              "'/content/extracted_folder/CognataCamera_png_copy'"
            ],
            "application/vnd.google.colaboratory.intrinsic+json": {
              "type": "string"
            }
          },
          "metadata": {},
          "execution_count": 5
        }
      ]
    },
    {
      "cell_type": "code",
      "source": [
        "import os\n",
        "from numpy.core.fromnumeric import shape\n",
        "from numpy import double\n",
        "\n",
        "# set the path of the directory you want to iterate through\n",
        "folder_path_png= '/content/extracted_folder/CognataCamera_png'\n",
        "folder_path_png_copy= '/content/extracted_folder/CognataCamera_png_copy'\n",
        "folder_path_csv= '/content/extracted_folder/CognataCamera_ann'\n",
        "folder_path_seg= '/content/extracted_folder/CognataCamera_sl_png'\n",
        "\n",
        "# get a list of all the files and directories in the folder\n",
        "frames= os.listdir(folder_path_png)\n",
        "data= os.listdir(folder_path_csv)\n",
        "seg_frames= os.listdir(folder_path_seg)\n",
        "\n",
        "# iterate through the frame in the folder and do something with each file\n",
        "for frame in frames:\n",
        "  frame_path = os.path.join(folder_path_png, frame)\n",
        "  frame_path_copy = os.path.join(folder_path_png_copy, frame)\n",
        "  frame_name= os.path.basename(frame)\n",
        "  data_name= frame_name[:-3] + \"csv\"\n",
        "  data_path= f'/content/extracted_folder/CognataCamera_ann/{data_name}'\n",
        "  seg_frame_path= f'/content/extracted_folder/CognataCamera_sl_png/{frame_name}'\n",
        "\n",
        "  data=pd.read_csv(data_path)\n",
        "  im=cv2.imread(frame_path)\n",
        "  im_copy=cv2.imread(frame_path_copy)\n",
        "  im_seg=cv2.imread(seg_frame_path)\n",
        "\n",
        "  #Creating folder for specific seg_frame\n",
        "  ######################\n",
        "  folder_crops_seg_name = f'crops_seg_{frame_name}'\n",
        "  # Set the path to the new folder in the Colab file system\n",
        "  folder_crops_seg_path = os.path.join('/content/traffic_signs_seg/', folder_crops_seg_name)\n",
        "  # Create the new folder\n",
        "  try:\n",
        "    os.mkdir(folder_crops_seg_path)\n",
        "    print(f\"Folder '{folder_crops_seg_name}' created successfully at '{folder_crops_seg_path}'\")\n",
        "  except FileExistsError:\n",
        "    print(f\"Folder '{folder_crops_seg_name}' already exists at '{folder_crops_seg_path}'\")\n",
        "\n",
        "  #Creating folder for specific frame\n",
        "  ######################\n",
        "  folder_crops_name = f'crops_{frame_name}'\n",
        "  # Set the path to the new folder in the Colab file system\n",
        "  folder_crops_path = os.path.join('/content/traffic_signs/', folder_crops_name)\n",
        "  # Create the new folder\n",
        "  try:\n",
        "    os.mkdir(folder_crops_path)\n",
        "    print(f\"Folder '{folder_crops_name}' created successfully at '{folder_crops_path}'\")\n",
        "  except FileExistsError:\n",
        "    print(f\"Folder '{folder_crops_name}' already exists at '{folder_crops_path}'\")\n",
        "  ######################\n",
        "\n",
        "  ##Loop for the data in the csv file and find the coordinates of the traffic sign in the frame, cut it and create new image with black background\n",
        "  j=0\n",
        "  num_img=0\n",
        "  for j in range(len(data)):\n",
        "    row=data.loc[j]\n",
        "    if row['object_class_name']=='TrafficSign':\n",
        "      string_1=row['bounding_box_3D_frontTopLeft']\n",
        "      string_2=row['bounding_box_3D_frontBottomRight']\n",
        "      string_1=(string_1.split('[')[1]).split(']')[0]\n",
        "      string_2=(string_2.split('[')[1]).split(']')[0]\n",
        "      nums_1=string_1.split(', ')\n",
        "      nums_2=string_2.split(', ')\n",
        "      for i in range(len(nums_1)):\n",
        "        nums_1[i] = int(float(nums_1[i]))\n",
        "      for i in range(len(nums_2)):\n",
        "        nums_2[i] = int(float(nums_2[i]))\n",
        "      nums_x_min=max(min(nums_1[1], nums_2[1]),0)\n",
        "      nums_x_max=min(max(nums_1[1], nums_2[1]), 1080)\n",
        "      nums_y_min=max(min(nums_2[0], nums_1[0]),0)\n",
        "      nums_y_max=min(max(nums_2[0], nums_1[0]), 1920)\n",
        "      ########################################################\n",
        "      #The im_copy is the original frame with the corresponding mask\n",
        "      im_copy[np.any(im_seg==[128,128,192], axis=-1)]=[28,178,140]\n",
        "      cv2.imwrite(f'/content/copy/{frame_name}', im_copy)\n",
        "      ########################################################\n",
        "      img = im[nums_x_min:nums_x_max, nums_y_min:nums_y_max]\n",
        "      img_seg=im_seg[nums_x_min:nums_x_max, nums_y_min:nums_y_max]\n",
        "      img_seg[np.any(img_seg!=[128,128,192], axis=-1)]=[0,0,0]\n",
        "      img[np.any(img_seg!=[128,128,192], axis=-1)]=[0,0,0]\n",
        "      img_seg[np.any(img_seg==[128,128,192], axis=-1)]=[28,178,140]\n",
        "      cv2.imwrite(f'/content/traffic_signs/{folder_crops_name}/img_{num_img}.png', img)\n",
        "      cv2.imwrite(f'/content/traffic_signs_seg/{folder_crops_seg_name}/img_seg_{num_img}.png', img_seg)\n",
        "      num_img=num_img+1"
      ],
      "metadata": {
        "id": "PWVYTILkW68b"
      },
      "execution_count": null,
      "outputs": []
    },
    {
      "cell_type": "markdown",
      "source": [
        "Code for deleting imgaes which aren't stop by the German Model-irrelevant for our project but it's for identifying the traffic sings"
      ],
      "metadata": {
        "id": "EDz2Yj3qoe-v"
      }
    },
    {
      "cell_type": "code",
      "source": [
        "from array import array\n",
        "new_model = tf.keras.models.load_model('/content/Traffic_sign_50.h5')\n",
        "\n",
        "folders_path=\"/content/traffic_signs\"\n",
        "folders= os.listdir(folders_path)\n",
        "\n",
        "for folder in sorted(folders):\n",
        "  images_path = os.path.join(folders_path, folder)\n",
        "  images= os.listdir(images_path)\n",
        "  arr =[]\n",
        "  for img in sorted(images):\n",
        "    image = cv2.imread(f'{images_path}/{img}')\n",
        "    image_fromarray = Image.fromarray(image, 'RGB')\n",
        "    resize_image = image_fromarray.resize((30, 30))\n",
        "    arr.append(np.array(resize_image))\n",
        "    X_test = np.array(arr)\n",
        "\n",
        "  X_test = X_test/255\n",
        "  pred = new_model.predict(X_test)\n",
        "  pred = np.argmax(pred, axis=1)\n",
        "  print(pred)\n",
        "  # for i in range(len(pred)):\n",
        "  #    if pred[i]!=14:\n",
        "  #      os.remove(f'/{images_path}/img_{i}.png')\n",
        "  #      num_of_frame=images_path.split('_')\n",
        "  #      images_path_seg=\"crops_seg_\"+num_of_frame[-1]\n",
        "  #      os.remove(f'/content/semantic_traffic_signs/{images_path_seg}/img_seg_{i}.png')"
      ],
      "metadata": {
        "id": "465zlser8UC0"
      },
      "execution_count": null,
      "outputs": []
    },
    {
      "cell_type": "markdown",
      "source": [
        "Creating folders for the cropped traffic signs and the cropped masks"
      ],
      "metadata": {
        "id": "T8rmvamolTM8"
      }
    },
    {
      "cell_type": "code",
      "source": [
        "import os\n",
        "\n",
        "directory_name = '/content/traffic_sign_AE'\n",
        "try:\n",
        "    os.mkdir(directory_name)\n",
        "    print(f\"Directory '{directory_name}' created successfully\")\n",
        "except FileExistsError:\n",
        "    print(f\"Directory '{directory_name}' already exists\")\n",
        "\n",
        "directory_name = '/content/traffic_sign_AE_seg'\n",
        "try:\n",
        "    os.mkdir(directory_name)\n",
        "    print(f\"Directory '{directory_name}' created successfully\")\n",
        "except FileExistsError:\n",
        "    print(f\"Directory '{directory_name}' already exists\")"
      ],
      "metadata": {
        "id": "Rvx5VnxIkpJT",
        "colab": {
          "base_uri": "https://localhost:8080/"
        },
        "outputId": "7514899f-e204-4b5a-ddaa-29b4c1e0fc8c"
      },
      "execution_count": null,
      "outputs": [
        {
          "output_type": "stream",
          "name": "stdout",
          "text": [
            "Directory '/content/traffic_sign_AE' created successfully\n",
            "Directory '/content/traffic_sign_AE_seg' created successfully\n"
          ]
        }
      ]
    },
    {
      "cell_type": "markdown",
      "source": [
        "Change the names of the images in the folders according to the number of simulation(view file int he drive)"
      ],
      "metadata": {
        "id": "4sOQTg7AEEN-"
      }
    },
    {
      "cell_type": "code",
      "source": [
        "#for regular\n",
        "# Move the test images and masks to the test directories\n",
        "test_files = os.listdir('/content/traffic_signs')\n",
        "address = '/content/traffic_signs'\n",
        "for file_name in test_files:\n",
        "    mask_file_name = file_name.split(\"_\")\n",
        "    #print(mask_file_name)\n",
        "    mask_file_name=mask_file_name[0]+\"18_\"+mask_file_name[1]\n",
        "    #print(mask_file_name)\n",
        "    old_name = os.path.join(address, file_name)\n",
        "    new_name = os.path.join(address, mask_file_name)\n",
        "    os.rename(old_name, new_name)\n"
      ],
      "metadata": {
        "id": "tplw0jhzD7dG"
      },
      "execution_count": null,
      "outputs": []
    },
    {
      "cell_type": "code",
      "source": [
        "# for seg\n",
        "# Move the test images and masks to the test directories\n",
        "test_files = os.listdir('/content/traffic_signs_seg')\n",
        "address = '/content/traffic_signs_seg'\n",
        "for file_name in test_files:\n",
        "    mask_file_name = file_name.split(\"_\")\n",
        "    #print(mask_file_name)\n",
        "    mask_file_name=mask_file_name[0]+\"18_\"+mask_file_name[1]+\"_\"+mask_file_name[2]\n",
        "    #print(mask_file_name)\n",
        "    old_name = os.path.join(address, file_name)\n",
        "    new_name = os.path.join(address, mask_file_name)\n",
        "    os.rename(old_name, new_name)\n"
      ],
      "metadata": {
        "id": "bwNq2Wp1D8d1"
      },
      "execution_count": null,
      "outputs": []
    },
    {
      "cell_type": "markdown",
      "source": [
        "Giving the names of the frame to the image and move it to the folders of AE"
      ],
      "metadata": {
        "id": "BbMeaqYLuKU1"
      }
    },
    {
      "cell_type": "code",
      "source": [
        "import os\n",
        "\n",
        "def folder_to_AE(directory, path_of_dest_folder_):\n",
        "  for folder_name in sorted(os.listdir(directory)):\n",
        "      flag_stop = 0\n",
        "      if os.path.isdir(os.path.join(directory, folder_name)):\n",
        "        frame_directory = os.path.join(directory, folder_name)\n",
        "        for img_name in sorted(os.listdir(frame_directory)):\n",
        "          image_path = os.path.join(frame_directory, img_name)\n",
        "          img = cv2.imread(image_path)\n",
        "          img_name = folder_name\n",
        "          if flag_stop == 0:\n",
        "            cv2.imwrite(f'/{path_of_dest_folder_}/{img_name}', img)\n",
        "          else:\n",
        "            new_img_name=img_name[:-4]\n",
        "            cv2.imwrite(f'/{path_of_dest_folder_}/{new_img_name}_{flag_stop}.png', img)\n",
        "          flag_stop = flag_stop + 1\n",
        "\n",
        "directory_signs = '/content/traffic_signs'\n",
        "directory_sign_seg = '/content/traffic_signs_seg'\n",
        "path_of_dest_folder_ = \"/content/traffic_sign_AE\"\n",
        "path_of_dest_folder_seg = \"/content/traffic_sign_AE_seg\"\n",
        "folder_to_AE(directory_signs, path_of_dest_folder_)\n",
        "folder_to_AE(directory_sign_seg, path_of_dest_folder_seg)"
      ],
      "metadata": {
        "id": "ei9wdJ-9Oz-N"
      },
      "execution_count": null,
      "outputs": []
    },
    {
      "cell_type": "markdown",
      "source": [
        "Uploading the folders which we created to the drive in zip"
      ],
      "metadata": {
        "id": "4snL3a9qEVFx"
      }
    },
    {
      "cell_type": "code",
      "source": [
        "from google.colab import drive\n",
        "import shutil\n",
        "\n",
        "# Define the path to the folder you want to zip and upload\n",
        "folder_path = \"/content/traffic_sign_AE\"\n",
        "folder_path_seg = \"/content/traffic_sign_AE_seg\"\n",
        "folder_path2 = \"/content/copy\"\n",
        "# Define the name of the zip file you want to create\n",
        "zip_file_name = \"traffic_sign_AE\"\n",
        "zip_file_name_seg = \"traffic_sign_AE_seg\"\n",
        "zip_file_name2 = \"frame_with_masks\"\n",
        "# Zip the folder\n",
        "shutil.make_archive(zip_file_name, 'zip', folder_path)\n",
        "shutil.make_archive(zip_file_name_seg, 'zip', folder_path_seg)\n",
        "shutil.make_archive(zip_file_name2, 'zip', folder_path2)"
      ],
      "metadata": {
        "id": "O6jXTxVAU6-s"
      },
      "execution_count": null,
      "outputs": []
    },
    {
      "cell_type": "code",
      "source": [
        "# Copy the zip file to Google Drive\n",
        "drive_path = \"/content/drive/Shareddrives/shared_Maor_Kfir/stop_276_1047\"\n",
        "shutil.copy(zip_file_name + \".zip\", drive_path)\n",
        "shutil.copy(zip_file_name_seg + \".zip\", drive_path)\n",
        "shutil.copy(zip_file_name2 + \".zip\", drive_path)"
      ],
      "metadata": {
        "id": "zmWV9pK_VNXY"
      },
      "execution_count": null,
      "outputs": []
    },
    {
      "cell_type": "markdown",
      "source": [
        "Deleting folders"
      ],
      "metadata": {
        "id": "zyB2I1mTAF9j"
      }
    },
    {
      "cell_type": "code",
      "source": [
        "import shutil\n",
        "# shutil.rmtree('/content/traffic_sign_AE')\n",
        "# shutil.rmtree('/content/traffic_sign_AE_seg')\n",
        "# shutil.rmtree('/content/traffic_signs_seg')\n",
        "# shutil.rmtree('/content/traffic_signs')\n",
        "# shutil.rmtree('/content/copy')\n",
        "shutil.rmtree('/content/extracted_folder')\n",
        "# !rm /content/frame_with_masks.zip\n",
        "# !rm /content/traffic_sign_AE_seg.zip\n",
        "# !rm /content/traffic_sign_AE.zip\n"
      ],
      "metadata": {
        "id": "iULROUT6vwGp"
      },
      "execution_count": null,
      "outputs": []
    }
  ]
}